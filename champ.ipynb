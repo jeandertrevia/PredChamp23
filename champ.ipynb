{
 "cells": [
  {
   "cell_type": "code",
   "execution_count": null,
   "metadata": {},
   "outputs": [],
   "source": [
    "import pandas as pd\n",
    "import requests"
   ]
  },
  {
   "cell_type": "code",
   "execution_count": null,
   "metadata": {},
   "outputs": [],
   "source": [
    "requisicao = requests.get(\"https://pt.wikipedia.org/wiki/Campeonato_Brasileiro_de_Futebol_de_2023_-_S%C3%A9rie_A\")\n",
    "tabelas = pd.read_html(requisicao.text)\n",
    "table_class = tabelas[6]\n",
    "table_matches = tabelas[7]"
   ]
  },
  {
   "cell_type": "code",
   "execution_count": null,
   "metadata": {},
   "outputs": [],
   "source": [
    "display(table_class)\n",
    "display(table_matches)"
   ]
  },
  {
   "cell_type": "code",
   "execution_count": null,
   "metadata": {},
   "outputs": [],
   "source": [
    "nameTeams = list(table_matches[\"Casa \\ Fora\"])\n",
    "surnameTeams = list(table_matches.columns)\n",
    "surnameTeams.pop(0) #excluir primeira coluna \"casa/fora\"\n",
    "print(nameTeams)\n",
    "print(surnameTeams)\n",
    "\n",
    "sur_to_name = dict(zip(surnameTeams, nameTeams))\n",
    "print(sur_to_name)"
   ]
  },
  {
   "cell_type": "code",
   "execution_count": null,
   "metadata": {},
   "outputs": [],
   "source": [
    "table_matches_ajusted = table_matches.set_index(\"Casa \\ Fora\")\n",
    "table_matches_ajusted = table_matches_ajusted.unstack().reset_index()\n",
    "table_matches_ajusted = table_matches_ajusted.rename(columns={\"level_0\": \"Fora\", \"Casa \\ Fora\": \"Casa\", 0:\"Resultado\"})\n",
    "\n",
    "display(table_matches_ajusted)"
   ]
  },
  {
   "cell_type": "code",
   "execution_count": null,
   "metadata": {},
   "outputs": [],
   "source": [
    "def ajust_surname(Line):\n",
    "    surname = Line['Fora']\n",
    "    name = sur_to_name[surname]\n",
    "    return name\n",
    "table_matches_ajusted['Fora'] = table_matches_ajusted.apply(ajust_surname, axis=1)\n"
   ]
  },
  {
   "cell_type": "code",
   "execution_count": 37,
   "metadata": {},
   "outputs": [
    {
     "data": {
      "text/html": [
       "<div>\n",
       "<style scoped>\n",
       "    .dataframe tbody tr th:only-of-type {\n",
       "        vertical-align: middle;\n",
       "    }\n",
       "\n",
       "    .dataframe tbody tr th {\n",
       "        vertical-align: top;\n",
       "    }\n",
       "\n",
       "    .dataframe thead th {\n",
       "        text-align: right;\n",
       "    }\n",
       "</style>\n",
       "<table border=\"1\" class=\"dataframe\">\n",
       "  <thead>\n",
       "    <tr style=\"text-align: right;\">\n",
       "      <th></th>\n",
       "      <th>Fora</th>\n",
       "      <th>Casa</th>\n",
       "      <th>Resultado</th>\n",
       "    </tr>\n",
       "  </thead>\n",
       "  <tbody>\n",
       "    <tr>\n",
       "      <th>1</th>\n",
       "      <td>América Mineiro</td>\n",
       "      <td>Athletico Paranaense</td>\n",
       "      <td>3–2</td>\n",
       "    </tr>\n",
       "    <tr>\n",
       "      <th>2</th>\n",
       "      <td>América Mineiro</td>\n",
       "      <td>Atlético Mineiro</td>\n",
       "      <td>2–2</td>\n",
       "    </tr>\n",
       "    <tr>\n",
       "      <th>3</th>\n",
       "      <td>América Mineiro</td>\n",
       "      <td>Bahia</td>\n",
       "      <td>3–1</td>\n",
       "    </tr>\n",
       "    <tr>\n",
       "      <th>4</th>\n",
       "      <td>América Mineiro</td>\n",
       "      <td>Botafogo</td>\n",
       "      <td>2–0</td>\n",
       "    </tr>\n",
       "    <tr>\n",
       "      <th>5</th>\n",
       "      <td>América Mineiro</td>\n",
       "      <td>Corinthians</td>\n",
       "      <td>1–1</td>\n",
       "    </tr>\n",
       "    <tr>\n",
       "      <th>...</th>\n",
       "      <td>...</td>\n",
       "      <td>...</td>\n",
       "      <td>...</td>\n",
       "    </tr>\n",
       "    <tr>\n",
       "      <th>394</th>\n",
       "      <td>Vasco da Gama</td>\n",
       "      <td>Internacional</td>\n",
       "      <td>2–1</td>\n",
       "    </tr>\n",
       "    <tr>\n",
       "      <th>395</th>\n",
       "      <td>Vasco da Gama</td>\n",
       "      <td>Palmeiras</td>\n",
       "      <td>1–0</td>\n",
       "    </tr>\n",
       "    <tr>\n",
       "      <th>396</th>\n",
       "      <td>Vasco da Gama</td>\n",
       "      <td>Red Bull Bragantino</td>\n",
       "      <td>1–1</td>\n",
       "    </tr>\n",
       "    <tr>\n",
       "      <th>397</th>\n",
       "      <td>Vasco da Gama</td>\n",
       "      <td>Santos</td>\n",
       "      <td>4–1</td>\n",
       "    </tr>\n",
       "    <tr>\n",
       "      <th>398</th>\n",
       "      <td>Vasco da Gama</td>\n",
       "      <td>São Paulo</td>\n",
       "      <td>4–2</td>\n",
       "    </tr>\n",
       "  </tbody>\n",
       "</table>\n",
       "<p>380 rows × 3 columns</p>\n",
       "</div>"
      ],
      "text/plain": [
       "                Fora                  Casa Resultado\n",
       "1    América Mineiro  Athletico Paranaense       3–2\n",
       "2    América Mineiro      Atlético Mineiro       2–2\n",
       "3    América Mineiro                 Bahia       3–1\n",
       "4    América Mineiro              Botafogo       2–0\n",
       "5    América Mineiro           Corinthians       1–1\n",
       "..               ...                   ...       ...\n",
       "394    Vasco da Gama         Internacional       2–1\n",
       "395    Vasco da Gama             Palmeiras       1–0\n",
       "396    Vasco da Gama   Red Bull Bragantino       1–1\n",
       "397    Vasco da Gama                Santos       4–1\n",
       "398    Vasco da Gama             São Paulo       4–2\n",
       "\n",
       "[380 rows x 3 columns]"
      ]
     },
     "metadata": {},
     "output_type": "display_data"
    }
   ],
   "source": [
    "table_matches_ajusted = table_matches_ajusted[table_matches_ajusted['Fora']!= table_matches_ajusted['Casa']]\n",
    "display(table_matches_ajusted)"
   ]
  }
 ],
 "metadata": {
  "kernelspec": {
   "display_name": "base",
   "language": "python",
   "name": "python3"
  },
  "language_info": {
   "codemirror_mode": {
    "name": "ipython",
    "version": 3
   },
   "file_extension": ".py",
   "mimetype": "text/x-python",
   "name": "python",
   "nbconvert_exporter": "python",
   "pygments_lexer": "ipython3",
   "version": "3.11.5"
  }
 },
 "nbformat": 4,
 "nbformat_minor": 2
}
